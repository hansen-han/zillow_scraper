{
 "cells": [
  {
   "cell_type": "markdown",
   "metadata": {},
   "source": [
    "# get_hoa_fees.ipynb\n",
    "Example code for extracting HOA fees from property listings. Could be useful if you want to determine if a potential investment property would be profitable. "
   ]
  },
  {
   "cell_type": "code",
   "execution_count": null,
   "metadata": {},
   "outputs": [],
   "source": [
    "import pandas as pd\n",
    "from tqdm import tqdm\n",
    "import time\n",
    "from ZillowScraper import get_hoa_fee"
   ]
  },
  {
   "cell_type": "code",
   "execution_count": null,
   "metadata": {},
   "outputs": [],
   "source": [
    "df = pd.read_csv(\"manhattan-ny_sale_2023_08_23_updated.csv\")\n",
    "\n",
    "hoa_fees = []\n",
    "for url in tqdm(list(df['detailUrl'])):\n",
    "    result = get_hoa_fee(url)\n",
    "    hoa_fees.append(result)\n",
    "    time.sleep(120) # sleep for two minutes\n",
    "\n",
    "df['hoa_fees'] = hoa_fees\n",
    "df.to_csv(\"manhattan-ny_sale_2023_08_23_updated_with_hoa_fees.csv\")"
   ]
  }
 ],
 "metadata": {
  "kernelspec": {
   "display_name": "datasci7",
   "language": "python",
   "name": "python3"
  },
  "language_info": {
   "name": "python",
   "version": "3.7.11"
  },
  "orig_nbformat": 4
 },
 "nbformat": 4,
 "nbformat_minor": 2
}
