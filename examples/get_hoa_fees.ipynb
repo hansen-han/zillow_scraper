{
 "cells": [
  {
   "cell_type": "markdown",
   "metadata": {},
   "source": [
    "# get_hoa_fees.ipynb\n",
    "Example code for extracting HOA fees from property listings. Could be useful if you want to determine if a potential investment property would be profitable. "
   ]
  },
  {
   "cell_type": "code",
   "execution_count": null,
   "metadata": {},
   "outputs": [],
   "source": [
    "import pandas as pd\n",
    "from tqdm import tqdm\n",
    "import time\n",
    "from zillow_scraper import get_hoa_fee"
   ]
  },
  {
   "cell_type": "code",
   "execution_count": null,
   "metadata": {},
   "outputs": [],
   "source": [
    "df = pd.read_csv(\"example_sale_data.csv\")\n",
    "\n",
    "hoa_fees = []\n",
    "for url in tqdm(list(df['detailUrl'])):\n",
    "    result = get_hoa_fee(url)\n",
    "    hoa_fees.append(result)\n",
    "    time.sleep(120) # sleep for two minutes\n",
    "\n",
    "df['hoa_fees'] = hoa_fees\n",
    "df.to_csv(\"manhattan-example_sale_data_with_hoa_fees.csv\")"
   ]
  }
 ],
 "metadata": {
  "kernelspec": {
   "display_name": "datasci7",
   "language": "python",
   "name": "python3"
  },
  "language_info": {
   "name": "python",
   "version": "3.7.11"
  },
  "orig_nbformat": 4
 },
 "nbformat": 4,
 "nbformat_minor": 2
}
