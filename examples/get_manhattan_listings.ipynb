{
 "cells": [
  {
   "cell_type": "code",
   "execution_count": null,
   "metadata": {},
   "outputs": [],
   "source": [
    "# Load packages\n",
    "import pandas as pd\n",
    "from datetime import datetime\n",
    "from zillow_scraper import zillow_scraper, make_frame_sales, make_frame_rentals, collect_real_estate_data\n",
    "\n",
    "locations = [\"manhattan-ny\"]\n",
    "property_types = [\"rent\", \"sale\"]"
   ]
  },
  {
   "cell_type": "code",
   "execution_count": null,
   "metadata": {},
   "outputs": [],
   "source": [
    "# basic version\n",
    "collect_real_estate_data(locations=locations, property_types=property_types)"
   ]
  },
  {
   "cell_type": "code",
   "execution_count": null,
   "metadata": {},
   "outputs": [],
   "source": [
    "# OR....if you want to toggle with the settings...this is what is going on in collect_real_estate_data()...\n",
    "today = datetime.now()\n",
    "todays_date = today.strftime(\"%Y_%m_%d\")\n",
    "todays_date\n",
    "\n",
    "# get rental and sale data for manhattan\n",
    "\n",
    "for location in locations:\n",
    "    for property_type in property_types:\n",
    "        data_dict = zillow_scraper(city=location, property_type=property_type, time_between_scrapes=120, testing=False, min_price=0)\n",
    "\n",
    "        data = data_dict[\"data_list\"]\n",
    "        min_price = data_dict[\"min_price\"]\n",
    "        num_listings = data_dict[\"num_listings\"]\n",
    "        print(location, property_type, min_price, num_listings)\n",
    "        df = pd.DataFrame()\n",
    "\n",
    "        if property_type == \"sale\":\n",
    "            # extract into a table\n",
    "            df = make_frame_sales(df, data)\n",
    "\n",
    "            #drop cols\n",
    "            df = df.drop('hdpData', 1) #remove this line to see a whole bunch of other random cols, in dict format\n",
    "\n",
    "            #drop dupes\n",
    "            df = df.drop_duplicates(subset='zpid', keep=\"last\")\n",
    "\n",
    "            #filters\n",
    "            df['zestimate'] = df['zestimate'].fillna(0)\n",
    "            df['best_deal'] = df['unformattedPrice'] - df['zestimate']\n",
    "        else:\n",
    "            df = make_frame_rentals(df, data)\n",
    "        \n",
    "        df.to_csv(\"{location}_{property_type}_{date}.csv\".format(location=location, property_type=property_type, date=todays_date))"
   ]
  }
 ],
 "metadata": {
  "language_info": {
   "name": "python"
  },
  "orig_nbformat": 4
 },
 "nbformat": 4,
 "nbformat_minor": 2
}
